{
 "cells": [
  {
   "cell_type": "code",
   "execution_count": null,
   "metadata": {},
   "outputs": [],
   "source": []
  },
  {
   "cell_type": "code",
   "execution_count": 1,
   "metadata": {},
   "outputs": [],
   "source": [
    "from bs4 import BeautifulSoup\n",
    "import requests\n",
    "import os\n",
    "from io import open"
   ]
  },
  {
   "cell_type": "code",
   "execution_count": 2,
   "metadata": {},
   "outputs": [
    {
     "data": {
      "text/plain": [
       "'2021-12-08T12:48:37Z'"
      ]
     },
     "execution_count": 2,
     "metadata": {},
     "output_type": "execute_result"
    }
   ],
   "source": [
    "url = \"https://www.elmundo.es/ciencia-y-salud/salud/2021/12/07/61aef71b3cd280001f293bf1-directo.html\"\n",
    "\n",
    "\n",
    "   \n",
    "pagina = requests.get(url)\n",
    "soup = BeautifulSoup(pagina.content, 'html.parser')\n",
    "\n",
    "\n",
    "date_length = 10 # 2021-12-03T18:09:39.529Z\n",
    "\n",
    "\n",
    "time=soup.find(\"time\")\n",
    "\n",
    "\n",
    "time.get('datetime')"
   ]
  },
  {
   "cell_type": "code",
   "execution_count": 3,
   "metadata": {},
   "outputs": [
    {
     "data": {
      "text/plain": [
       "'2021-12-06'"
      ]
     },
     "execution_count": 3,
     "metadata": {},
     "output_type": "execute_result"
    }
   ],
   "source": [
    "url=\"https://elpais.com/planeta-futuro/2021-12-06/las-muertes-por-malaria-aumentaron-hasta-las-627000-en-2020-por-la-crisis-de-la-covid-19.html\"\n",
    "pagina = requests.get(url)\n",
    "soup = BeautifulSoup(pagina.content, 'html.parser')\n",
    "\n",
    "date_length = 10 # 2021-12-03T18:09:39.529Z\n",
    "soup.find(\"a\", id=\"article_date_p\")[\"data-date\"][:date_length]"
   ]
  },
  {
   "cell_type": "code",
   "execution_count": 4,
   "metadata": {},
   "outputs": [
    {
     "data": {
      "text/plain": [
       "'2021-12-08'"
      ]
     },
     "execution_count": 4,
     "metadata": {},
     "output_type": "execute_result"
    }
   ],
   "source": [
    "url=\"https://www.elmundo.es/ciencia-y-salud/salud/2021/12/07/61af78ca21efa0fe778b45d0.html\"\n",
    "\n",
    "pagina = requests.get(url)\n",
    "soup = BeautifulSoup(pagina.content, 'html.parser')\n",
    "date_length = 10 # 2021-12-03T18:09:39.529Z\n",
    "time.get('datetime')[:date_length]"
   ]
  },
  {
   "cell_type": "code",
   "execution_count": 5,
   "metadata": {},
   "outputs": [],
   "source": [
    "def elMundoPalabrasLlaves(soup):\n",
    "    palabras_llaves = \"\"\n",
    "    separador = \", \"\n",
    "    # listo con todos los palabras llaves\n",
    "    html_llaves = soup.find(\"ul\", class_=\"ue-c-article__tags ue-l-article--leftcol-width-from-desktop ue-l-article--float-left-from-desktop ue-l-article--move-to-leftcol-from-desktop ue-l-article--bottom-absolute-from-desktop\")\n",
    "    # solo los palabras que son enlaces\n",
    "    enlaces_llaves = html_llaves.find_all(\"a\")\n",
    "    # sacar el texto del enlace y anadir al listo de todos\n",
    "    for enlace in enlaces_llaves:\n",
    "        palabras_llaves = palabras_llaves + enlace.text + separador\n",
    "    # quitar ultima seperador\n",
    "    palabras_llaves = palabras_llaves[:-(len(separador))]\n",
    "    return palabras_llaves"
   ]
  },
  {
   "cell_type": "code",
   "execution_count": 6,
   "metadata": {},
   "outputs": [],
   "source": [
    "def elMundoTexto(soup):\n",
    "    content = \"\"\n",
    "    # div con todo el texto\n",
    "    text = soup.find(\"div\", class_=\"ue-l-article__body ue-c-article__body\")\n",
    "    # buscar todos los p\n",
    "    paragraphs = text.find_all(\"p\")\n",
    "    # sacar el texto del p y anadir al content\n",
    "    for paragraph in paragraphs:\n",
    "        content = content + paragraph.text + \"\\n\"\n",
    "    # print(content)\n",
    "    return content"
   ]
  },
  {
   "cell_type": "code",
   "execution_count": 7,
   "metadata": {},
   "outputs": [],
   "source": [
    "def elMundoTitulo(soup):\n",
    "    return soup.find(\"h1\", class_=\"ue-c-article__headline js-headline\").text"
   ]
  },
  {
   "cell_type": "code",
   "execution_count": 8,
   "metadata": {},
   "outputs": [],
   "source": [
    "def elMundoEntradilla(soup):\n",
    "    return soup.find(\"p\", class_=\"ue-c-article__standfirst\").text"
   ]
  },
  {
   "cell_type": "code",
   "execution_count": 9,
   "metadata": {},
   "outputs": [],
   "source": [
    "def elMundoFecha(soup):\n",
    "    date_length = 10 # 2021-12-03T18:09:39.529Z\n",
    "    time=soup.find(\"time\")\n",
    "    return time.get('datetime')[:date_length]"
   ]
  },
  {
   "cell_type": "code",
   "execution_count": 14,
   "metadata": {},
   "outputs": [],
   "source": [
    "def guardarFichero(contenido, fecha, diario_texto, categoria):\n",
    "# calcular numero (nnn)\n",
    "    \n",
    "    counter = 1\n",
    "    if fecha in counter_dictionary[categoria]:\n",
    "        counter = counter_dictionary[categoria][fecha]\n",
    "        counter_dictionary[categoria][fecha] += 1\n",
    "    else:\n",
    "        counter_dictionary[categoria][fecha] = 2\n",
    "\n",
    "    # /diario/categoria/categoria.fecha.nnn.txt\n",
    "  \n",
    "    abs_path = os.getcwd()\n",
    "    rel_path = diario_texto + \"/\" + categoria + \"/\"\n",
    "    nombre_fichero = diario_texto + \".\" + categoria + \".\" + fecha + \".\" + str(counter).zfill(3) + \".txt\"\n",
    "    path = os.path.join(abs_path, rel_path, nombre_fichero)\n",
    "    \n",
    "    try:\n",
    "        with open(path,'x') as fichero:\n",
    "            fichero.write(contenido)\n",
    "            print (\"File \" + nombre_fichero + \" created!\")\n",
    "    except IOError:\n",
    "        \n",
    "        print(\"File \" + nombre_fichero + \" already exists...\")\n",
    "        "
   ]
  },
  {
   "cell_type": "code",
   "execution_count": 11,
   "metadata": {},
   "outputs": [],
   "source": [
    "def elMundoWebScraping(pagina, diario_texto, categoria):\n",
    "    soup = BeautifulSoup(pagina, 'html.parser')\n",
    "\n",
    "    palabras_llaves = elMundoPalabrasLlaves(soup)\n",
    "    titulo = elMundoTitulo(soup)\n",
    "    entradilla = elMundoEntradilla(soup)\n",
    "    texto = elMundoTexto(soup)\n",
    "    fecha = elMundoFecha(soup)\n",
    "\n",
    "    content = palabras_llaves + \"\\n\\n\" + titulo + \"\\n\\n\" + entradilla + \"\\n\\n\" + texto\n",
    "    guardarFichero(content,fecha,diario_texto, categoria)\n",
    "    return content"
   ]
  },
  {
   "cell_type": "code",
   "execution_count": 12,
   "metadata": {},
   "outputs": [],
   "source": [
    "def elMundo(diario_texto, categoria, url):\n",
    "    counter_dictionary[categoria] = {}\n",
    "    pagina = requests.get(url)\n",
    "    soup = BeautifulSoup(pagina.content, 'html.parser')\n",
    "\n",
    "    enlaces = []\n",
    "    for article in soup.find_all(\"article\"):\n",
    "        enlaces.append(article.find(\"a\")['href'])\n",
    "\n",
    "    for enlace in enlaces:\n",
    "        articulo = requests.get(enlace)\n",
    "        try:\n",
    "            elMundoWebScraping(articulo.content, diario_texto, categoria)\n",
    "        except:\n",
    "            print(\"Error procesando articulo, saltando el articulo \" + enlace)"
   ]
  },
  {
   "cell_type": "code",
   "execution_count": 16,
   "metadata": {},
   "outputs": [
    {
     "name": "stdout",
     "output_type": "stream",
     "text": [
      "Error procesando articulo, saltando el articulo https://www.elmundo.es/ciencia-y-salud/salud/2021/12/08/61b0a017fc6c83a81a8b4598.html\n",
      "File salud.2021-12-08.001.txt created!\n",
      "File salud.2021-12-08.002.txt created!\n",
      "File salud.2021-12-08.003.txt created!\n",
      "File salud.2021-12-07.001.txt created!\n",
      "File salud.2021-12-07.002.txt created!\n",
      "File salud.2021-12-07.003.txt created!\n",
      "Error procesando articulo, saltando el articulo https://www.elmundo.es/ciencia-y-salud/salud/2021/12/07/61af53dbfdddff8e368b456d.html\n",
      "File salud.2021-12-07.004.txt created!\n",
      "File salud.2021-12-07.005.txt created!\n",
      "File salud.2021-12-07.006.txt created!\n",
      "File salud.2021-12-07.007.txt created!\n",
      "Error procesando articulo, saltando el articulo https://www.elmundo.es/ciencia-y-salud/salud/2021/12/06/61ae4693fc6c8335578b4580.html\n",
      "File salud.2021-12-06.001.txt created!\n",
      "File salud.2021-12-06.002.txt created!\n",
      "File salud.2021-12-06.003.txt created!\n",
      "File salud.2021-12-06.004.txt created!\n",
      "File salud.2021-12-05.001.txt created!\n",
      "File salud.2021-12-05.002.txt created!\n",
      "File salud.2021-12-05.003.txt created!\n",
      "Error procesando articulo, saltando el articulo https://www.elmundo.es/ciencia-y-salud/salud/2021/12/05/61aa5667e4d4d8d6748b456f.html\n",
      "File salud.2021-12-04.001.txt created!\n",
      "File salud.2021-12-04.002.txt created!\n",
      "File salud.2021-12-04.003.txt created!\n",
      "File salud.2021-12-04.004.txt created!\n",
      "File salud.2021-12-04.005.txt created!\n",
      "File salud.2021-12-04.006.txt created!\n",
      "File salud.2021-12-03.001.txt created!\n",
      "Error procesando articulo, saltando el articulo https://www.elmundo.es/ciencia-y-salud/salud/2021/12/01/61a75622fc6c83bf678b4580.html\n",
      "File salud.2021-12-03.002.txt created!\n",
      "File salud.2021-12-03.003.txt created!\n",
      "File salud.2021-12-03.004.txt created!\n",
      "File salud.2021-12-03.005.txt created!\n",
      "File salud.2021-12-03.006.txt created!\n",
      "Error procesando articulo, saltando el articulo https://www.elmundo.es/ciencia-y-salud/salud/2021/12/03/61a9b3543cd280001f27d8f4-directo.html\n",
      "Error procesando articulo, saltando el articulo https://www.elmundo.es/ciencia-y-salud/salud/2021/12/02/61a92a0421efa0e0438b4581.html\n",
      "File salud.2021-12-02.001.txt created!\n",
      "Error procesando articulo, saltando el articulo https://www.elmundo.es/ciencia-y-salud/salud/2021/12/02/61a92288e4d4d817408b458c.html\n",
      "File salud.2021-12-02.002.txt created!\n",
      "File salud.2021-12-02.003.txt created!\n",
      "File salud.2021-12-02.004.txt created!\n",
      "File salud.2021-12-02.005.txt created!\n",
      "Error procesando articulo, saltando el articulo https://www.elmundo.es/ciencia-y-salud/salud/2021/12/02/61a0de9efc6c8391478b45ba.html\n",
      "File salud.2021-12-02.006.txt created!\n",
      "File salud.2021-12-02.007.txt created!\n",
      "File salud.2021-12-02.008.txt created!\n",
      "File salud.2021-12-02.009.txt created!\n",
      "File salud.2021-12-02.010.txt created!\n",
      "File salud.2021-12-02.011.txt created!\n",
      "File salud.2021-12-02.012.txt created!\n",
      "File ciencia.2021-12-08.001.txt created!\n",
      "File ciencia.2021-12-08.002.txt created!\n",
      "File ciencia.2021-12-06.001.txt created!\n",
      "Error procesando articulo, saltando el articulo https://www.elmundo.es/ciencia-y-salud/ciencia/2021/12/04/61a8d324fc6c8344648b45cb.html\n",
      "File ciencia.2021-12-03.001.txt created!\n",
      "File ciencia.2021-12-02.001.txt created!\n",
      "Error procesando articulo, saltando el articulo https://www.elmundo.es/ciencia-y-salud/ciencia/2021/12/02/61a86137e5528d001ffcea25-directo.html\n",
      "Error procesando articulo, saltando el articulo https://www.elmundo.es/ciencia-y-salud.html\n",
      "File ciencia.2021-12-01.001.txt created!\n",
      "Error procesando articulo, saltando el articulo https://www.elmundo.es/album/ciencia-y-salud/ciencia/2021/12/01/61a140bafc6c83ae498b459a.html\n",
      "File ciencia.2021-11-30.001.txt created!\n",
      "Error procesando articulo, saltando el articulo https://www.elmundo.es/ciencia-y-salud/ciencia/2021/11/29/61a46f51e5528d001ffbaba2-directo.html\n",
      "File ciencia.2021-11-24.001.txt created!\n",
      "Error procesando articulo, saltando el articulo https://www.elmundo.es/ciencia-y-salud/ciencia/2021/11/23/619cfb7be4d4d8181a8b4584.html\n",
      "File ciencia.2021-11-23.001.txt created!\n",
      "Error procesando articulo, saltando el articulo https://www.elmundo.es/ciencia-y-salud/ciencia/2021/11/22/619bdd4721efa0bd058b45d3.html\n",
      "Error procesando articulo, saltando el articulo https://www.elmundo.es/ciencia-y-salud/ciencia/2021/11/22/619bbe2bfdddff513e8b45d1.html\n",
      "File ciencia.2021-11-21.001.txt created!\n",
      "Error procesando articulo, saltando el articulo https://www.elmundo.es/ciencia-y-salud/ciencia/2021/11/21/6199f4e6c5e20e001ea78642-directo.html\n",
      "File ciencia.2021-11-21.002.txt created!\n",
      "Error procesando articulo, saltando el articulo https://www.elmundo.es/ciencia-y-salud/ciencia/2021/11/19/6196a6c521efa0aa268b45d8.html\n",
      "File ciencia.2021-11-18.001.txt created!\n",
      "File ciencia.2021-11-18.002.txt created!\n",
      "File ciencia.2021-11-18.003.txt created!\n",
      "File ciencia.2021-11-18.004.txt created!\n",
      "File ciencia.2021-11-17.001.txt created!\n",
      "File ciencia.2021-11-17.002.txt created!\n",
      "File ciencia.2021-11-16.001.txt created!\n",
      "Error procesando articulo, saltando el articulo https://www.elmundo.es/ciencia-y-salud/ciencia/2021/11/14/61897882fdddff49148b458d.html\n",
      "File ciencia.2021-11-13.001.txt created!\n",
      "File ciencia.2021-11-13.002.txt created!\n",
      "File ciencia.2021-11-13.003.txt created!\n",
      "File ciencia.2021-11-12.001.txt created!\n",
      "File ciencia.2021-11-11.001.txt created!\n",
      "Error procesando articulo, saltando el articulo https://www.elmundo.es/ciencia-y-salud/ciencia/2021/10/26/6177ff14fdddff999a8b458b.html\n",
      "File ciencia.2021-11-09.001.txt created!\n",
      "File ciencia.2021-11-08.001.txt created!\n",
      "File ciencia.2021-11-07.001.txt created!\n",
      "Error procesando articulo, saltando el articulo https://www.elmundo.es/ciencia-y-salud/ciencia/2021/11/07/6187829bc5e20e001ea41385-directo.html\n",
      "File ciencia.2021-11-06.001.txt created!\n",
      "File ciencia.2021-11-07.002.txt created!\n",
      "Error procesando articulo, saltando el articulo https://www.elmundo.es/ciencia-y-salud/ciencia/2021/11/05/61853479e4d4d803098b4581.html\n",
      "File ciencia.2021-11-06.002.txt created!\n",
      "File ciencia.2021-11-05.001.txt created!\n",
      "File ciencia.2021-11-04.001.txt created!\n",
      "File ciencia.2021-11-04.002.txt created!\n",
      "Error procesando articulo, saltando el articulo https://www.elmundo.es/ciencia-y-salud/ciencia/2021/11/03/6182727c21efa0c7078b4589.html\n",
      "File ciencia.2021-11-03.001.txt created!\n",
      "Error procesando articulo, saltando el articulo https://www.elmundo.es/ciencia-y-salud/ciencia/2021/11/02/618116cbfc6c83eb0e8b45d2.html\n",
      "File ciencia.2021-11-02.001.txt created!\n",
      "Error procesando articulo, saltando el articulo https://www.elmundo.es/tecnologia/2021/12/03/61a8d28f21efa04b218b45b2.html\n",
      "File tecnologia.2021-12-02.001.txt created!\n",
      "File tecnologia.2021-12-03.001.txt created!\n",
      "File tecnologia.2021-12-01.001.txt created!\n",
      "File tecnologia.2021-12-01.002.txt created!\n",
      "File tecnologia.2021-11-30.001.txt created!\n",
      "File tecnologia.2021-12-01.003.txt created!\n",
      "Error procesando articulo, saltando el articulo https://www.elmundo.es/uestudio/2021/11/16/61938837e4d4d8a8078b457d.html\n",
      "Error procesando articulo, saltando el articulo https://www.elmundo.es/uestudio/2021/11/03/61826a1afdddffdf388b45e1.html\n",
      "Error procesando articulo, saltando el articulo https://www.elmundo.es/uestudio/2021/11/05/6185116ffdddff23218b461a.html\n",
      "File tecnologia.2021-12-08.001.txt created!\n",
      "File tecnologia.2021-12-07.001.txt created!\n",
      "File tecnologia.2021-12-07.002.txt created!\n",
      "File tecnologia.2021-12-06.001.txt created!\n",
      "File tecnologia.2021-12-06.002.txt created!\n",
      "File tecnologia.2021-12-05.001.txt created!\n",
      "File tecnologia.2021-12-04.001.txt created!\n",
      "File tecnologia.2021-12-03.002.txt created!\n",
      "Error procesando articulo, saltando el articulo https://www.elmundo.es/tecnologia/innovacion/working-progress/2021/12/01/61a65960fdddffa0688b457c.html\n",
      "File tecnologia.2021-11-30.002.txt created!\n",
      "File tecnologia.2021-11-30.003.txt created!\n",
      "File tecnologia.2021-11-30.004.txt created!\n",
      "File tecnologia.2021-11-29.001.txt created!\n",
      "File tecnologia.2021-11-29.002.txt created!\n",
      "File tecnologia.2021-11-29.003.txt created!\n",
      "File tecnologia.2021-11-29.004.txt created!\n",
      "File tecnologia.2021-11-29.005.txt created!\n",
      "Error procesando articulo, saltando el articulo https://www.elmundo.es/tecnologia/2021/11/28/61a12f2ffdddff9a128b456d.html\n",
      "File tecnologia.2021-11-27.001.txt created!\n",
      "File tecnologia.2021-11-26.001.txt created!\n",
      "File tecnologia.2021-11-26.002.txt created!\n",
      "File tecnologia.2021-11-25.001.txt created!\n",
      "File tecnologia.2021-11-25.002.txt created!\n",
      "File tecnologia.2021-11-24.001.txt created!\n",
      "File tecnologia.2021-11-24.002.txt created!\n",
      "File tecnologia.2021-11-24.003.txt created!\n",
      "File tecnologia.2021-11-23.001.txt created!\n",
      "File tecnologia.2021-11-23.002.txt created!\n",
      "File tecnologia.2021-11-23.003.txt created!\n",
      "File tecnologia.2021-11-22.001.txt created!\n",
      "File tecnologia.2021-11-22.002.txt created!\n",
      "File tecnologia.2021-11-21.001.txt created!\n",
      "File tecnologia.2021-11-21.002.txt created!\n",
      "File tecnologia.2021-11-20.001.txt created!\n",
      "Error procesando articulo, saltando el articulo https://www.elmundo.es/tecnologia/gadgets/2021/11/19/6197746621efa065478b45d6.html\n",
      "File tecnologia.2021-11-19.001.txt created!\n",
      "File tecnologia.2021-11-19.002.txt created!\n",
      "File tecnologia.2021-11-19.003.txt created!\n",
      "File tecnologia.2021-11-18.001.txt created!\n",
      "File tecnologia.2021-11-18.002.txt created!\n",
      "File tecnologia.2021-11-18.003.txt created!\n",
      "File tecnologia.2021-11-18.004.txt created!\n",
      "File tecnologia.2021-11-18.005.txt created!\n",
      "File tecnologia.2021-11-18.006.txt created!\n",
      "File tecnologia.2021-11-17.001.txt created!\n",
      "File tecnologia.2021-11-17.002.txt created!\n",
      "Error procesando articulo, saltando el articulo https://www.elmundo.es/tecnologia/innovacion/working-progress/2021/11/16/61924817e4d4d82e7f8b459d.html\n",
      "Error procesando articulo, saltando el articulo https://www.elmundo.es/tecnologia/innovacion/working-progress/2021/11/16/6192c41121efa0ce618b459f.html\n",
      "Error procesando articulo, saltando el articulo https://www.elmundo.es/tecnologia/innovacion/working-progress/2021/11/16/6192666cfdddffcc348bf177.html\n",
      "File tecnologia.2021-11-16.001.txt created!\n"
     ]
    }
   ],
   "source": [
    "diario = \"https://elmundo.es\"\n",
    "diario_texto = \"elMundo\"\n",
    "counter_dictionary = {}\n",
    "\n",
    "\n",
    "\n",
    "categoria = \"salud\"\n",
    "url = \"https://www.elmundo.es/ciencia-y-salud/salud.html\" \n",
    "elMundo(diario_texto, categoria, url)\n",
    "\n",
    "categoria = \"ciencia\"\n",
    "url = \"https://www.elmundo.es/ciencia-y-salud/ciencia.html\"\n",
    "elMundo(diario_texto, categoria, url)\n",
    "\n",
    "categoria = \"tecnologia\"\n",
    "url = \"https://www.elmundo.es/tecnologia.html\"\n",
    "elMundo(diario_texto, categoria, url)"
   ]
  },
  {
   "cell_type": "code",
   "execution_count": null,
   "metadata": {},
   "outputs": [],
   "source": []
  },
  {
   "cell_type": "code",
   "execution_count": null,
   "metadata": {},
   "outputs": [],
   "source": []
  },
  {
   "cell_type": "code",
   "execution_count": null,
   "metadata": {},
   "outputs": [],
   "source": []
  },
  {
   "cell_type": "code",
   "execution_count": null,
   "metadata": {},
   "outputs": [],
   "source": []
  },
  {
   "cell_type": "code",
   "execution_count": null,
   "metadata": {},
   "outputs": [],
   "source": []
  },
  {
   "cell_type": "code",
   "execution_count": null,
   "metadata": {},
   "outputs": [],
   "source": []
  },
  {
   "cell_type": "code",
   "execution_count": null,
   "metadata": {},
   "outputs": [],
   "source": []
  },
  {
   "cell_type": "code",
   "execution_count": null,
   "metadata": {},
   "outputs": [],
   "source": []
  },
  {
   "cell_type": "code",
   "execution_count": null,
   "metadata": {},
   "outputs": [],
   "source": []
  }
 ],
 "metadata": {
  "kernelspec": {
   "display_name": "Python 3",
   "language": "python",
   "name": "python3"
  },
  "language_info": {
   "codemirror_mode": {
    "name": "ipython",
    "version": 3
   },
   "file_extension": ".py",
   "mimetype": "text/x-python",
   "name": "python",
   "nbconvert_exporter": "python",
   "pygments_lexer": "ipython3",
   "version": "3.8.8"
  }
 },
 "nbformat": 4,
 "nbformat_minor": 4
}
