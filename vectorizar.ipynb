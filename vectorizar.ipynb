{
 "cells": [
  {
   "cell_type": "code",
   "execution_count": 17,
   "metadata": {},
   "outputs": [],
   "source": [
    "import pandas as pd\n",
    "import os, pickle\n",
    "from IPython.display import display\n",
    "from nltk.tokenize import RegexpTokenizer\n",
    "from nltk.stem.snowball import SnowballStemmer\n",
    "from sklearn.feature_extraction.text import TfidfVectorizer\n",
    "\n",
    "def tokenize(x):\n",
    "    return RegexpTokenizer(r'\\w+').tokenize(x.lower())\n",
    "\n",
    "def removeStopwords(x):\n",
    "    with open(\"stopWords_es.txt\") as f:\n",
    "        text = f.read()\n",
    "        prohibitedWords = text.split(\"\\n\")\n",
    "        return [word for word in x if not word in prohibitedWords]\n",
    "\n",
    "def stemming(x):\n",
    "    stemmer = SnowballStemmer(language=\"spanish\")\n",
    "    return ' '.join([stemmer.stem(word) for word in x])\n",
    "\n",
    "def generateDF(path):\n",
    "    df = pd.DataFrame({\"name\": [], \"path\": [], \"content\":[]})\n",
    "    files = os.listdir(path)\n",
    "    for file in files:\n",
    "        if file.startswith(\".\"): continue\n",
    "        file_path = os.path.join(path, file)\n",
    "        if os.path.isfile(file_path):\n",
    "            with open(file_path, 'r', encoding=\"ISO-8859-1\") as f:\n",
    "                df = df.append({\"name\": file, \"path\": file_path, \"content\": f.read()}, ignore_index=True)\n",
    "        elif os.path.isdir(file_path):\n",
    "            df = df.append(generateDF(file_path))\n",
    "\n",
    "    return df\n",
    "\n",
    "df = pd.DataFrame({\"name\": [], \"path\": [], \"content\":[]})\n",
    "df = df.append(generateDF(os.path.join(os.getcwd(), \"elMundo\")))\n",
    "df = df.append(generateDF(os.path.join(os.getcwd(), \"elPais\")))\n",
    "df = df.append(generateDF(os.path.join(os.getcwd(), \"20minutos\")))\n",
    "df['tokens'] = df['content'].map(tokenize)\n",
    "df['tokens'] = df['tokens'].map(removeStopwords)\n",
    "df['lemma'] = df['tokens'].map(stemming)\n",
    "\n",
    "df[\"medio\"] = df[\"path\"].apply(lambda x: x.split(\"/\")[len(x.split(\"/\"))-3])\n",
    "df[\"categoria\"] = df[\"path\"].apply(lambda x: x.split(\"/\")[len(x.split(\"/\"))-2])\n",
    "df[\"etiquettas\"] = df[\"content\"].apply(lambda x: x.split(\"\\n\")[0])\n",
    "\n",
    "display(df)\n",
    "vectorizer = TfidfVectorizer()\n",
    "vectors = vectorizer.fit_transform(df['lemma'])\n",
    "feature_names = vectorizer.get_feature_names()\n",
    "dense = vectors.todense()\n",
    "denselist = dense.tolist()\n",
    "df['vector'] = denselist\n",
    "csv = df[['name','path', 'medio', 'categoria', 'etiquettas', 'vector']]\n",
    "csv.to_csv(\"vectores.csv\", index=False)\n",
    "pickle.dump(vectorizer, open(\"vectorizer.file\", 'wb'))\n",
    "display(csv)\n"
   ]
  },
  {
   "cell_type": "code",
   "execution_count": null,
   "metadata": {},
   "outputs": [
    {
     "name": "stdout",
     "output_type": "stream",
     "text": [
      "ciencia\n"
     ]
    }
   ],
   "source": [
    "path = \"/Users/joelplambeck/Documents/sistemas-inteligentes_codigo/elPais/ciencia/ciencia.2021-03-01.001.txt\"\n",
    "parts = path.split(\"/\")\n",
    "print(parts[len(parts)-2])"
   ]
  },
  {
   "cell_type": "code",
   "execution_count": null,
   "metadata": {},
   "outputs": [],
   "source": []
  }
 ],
 "metadata": {
  "interpreter": {
   "hash": "31f2aee4e71d21fbe5cf8b01ff0e069b9275f58929596ceb00d14d90e3e16cd6"
  },
  "kernelspec": {
   "display_name": "Python 3.8.9 64-bit",
   "language": "python",
   "name": "python3"
  },
  "language_info": {
   "codemirror_mode": {
    "name": "ipython",
    "version": 3
   },
   "file_extension": ".py",
   "mimetype": "text/x-python",
   "name": "python",
   "nbconvert_exporter": "python",
   "pygments_lexer": "ipython3",
   "version": "3.8.8"
  },
  "orig_nbformat": 4
 },
 "nbformat": 4,
 "nbformat_minor": 2
}
